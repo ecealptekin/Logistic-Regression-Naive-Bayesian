{
  "nbformat": 4,
  "nbformat_minor": 0,
  "metadata": {
    "colab": {
      "name": "Copy_of_HW3_Logistic_Regression_toSolve _2_.ipynb",
      "provenance": [],
      "collapsed_sections": [],
      "machine_shape": "hm",
      "include_colab_link": true
    },
    "kernelspec": {
      "name": "python3",
      "display_name": "Python 3"
    }
  },
  "cells": [
    {
      "cell_type": "markdown",
      "metadata": {
        "id": "view-in-github",
        "colab_type": "text"
      },
      "source": [
        "<a href=\"https://colab.research.google.com/github/ecealptekin/Logistic-Regression-Naive-Bayesian/blob/master/Copy_of_HW3_Logistic_Regression_toSolve__2_.ipynb\" target=\"_parent\"><img src=\"https://colab.research.google.com/assets/colab-badge.svg\" alt=\"Open In Colab\"/></a>"
      ]
    },
    {
      "cell_type": "code",
      "metadata": {
        "id": "4ZzBwrMglgYl",
        "colab_type": "code",
        "colab": {}
      },
      "source": [
        "import matplotlib.pyplot as plt\n",
        "from sklearn.naive_bayes import GaussianNB\n",
        "from sklearn.linear_model import LogisticRegression\n",
        "from sklearn.model_selection import train_test_split\n",
        "from sklearn.metrics import classification_report, confusion_matrix, accuracy_score\n",
        "import numpy as np"
      ],
      "execution_count": 0,
      "outputs": []
    },
    {
      "cell_type": "markdown",
      "metadata": {
        "id": "dxKFHk_HynHe",
        "colab_type": "text"
      },
      "source": [
        "# [25 pts] A Toy Example: Decision Boundary and Conditional Independence Assumption"
      ]
    },
    {
      "cell_type": "markdown",
      "metadata": {
        "id": "fp4nIW7QssBo",
        "colab_type": "text"
      },
      "source": [
        "### Gaussian Distributed Data fits better to Gaussian Naive Bayesian rather than Logistic Regression, unfortunately that is not the case most of the time.\n",
        "Now, imagine we have two artificial dataset. Both are drawn from Gaussian distribution. One of the dataset is with standard deviation 1 and the other is 5. Each cluster is conditionally independent from each other.\n",
        "\n",
        "make_blobs function samples data points from gaussian distribution."
      ]
    },
    {
      "cell_type": "code",
      "metadata": {
        "colab_type": "code",
        "id": "tPgLMm3csrD6",
        "colab": {}
      },
      "source": [
        "from sklearn.datasets import make_blobs\n",
        "data1, label1 = make_blobs(n_samples=500, centers=2, n_features=2, cluster_std=1, random_state=1)\n",
        "data2, label2 = make_blobs(n_samples=500, centers=2, n_features=2, cluster_std=5, random_state=1)"
      ],
      "execution_count": 0,
      "outputs": []
    },
    {
      "cell_type": "code",
      "metadata": {
        "id": "iLGdgL1vxPoL",
        "colab_type": "code",
        "outputId": "d714a4a4-3872-44e6-b39e-2c6932efe7bf",
        "colab": {
          "base_uri": "https://localhost:8080/",
          "height": 34
        }
      },
      "source": [
        "from google.colab import drive\n",
        "drive.mount('/content/drive')"
      ],
      "execution_count": 0,
      "outputs": [
        {
          "output_type": "stream",
          "text": [
            "Drive already mounted at /content/drive; to attempt to forcibly remount, call drive.mount(\"/content/drive\", force_remount=True).\n"
          ],
          "name": "stdout"
        }
      ]
    },
    {
      "cell_type": "markdown",
      "metadata": {
        "id": "VrJE4Mxttpqo",
        "colab_type": "text"
      },
      "source": [
        "Let's split the datasets into train and test."
      ]
    },
    {
      "cell_type": "code",
      "metadata": {
        "colab_type": "code",
        "id": "Yq25ZZR4sqrC",
        "colab": {}
      },
      "source": [
        "(train_x1, val_x1, train_y1, val_y1) = train_test_split(data1, label1, test_size=0.2)\n",
        "(train_x2, val_x2, train_y2, val_y2) = train_test_split(data2, label2, test_size=0.2)"
      ],
      "execution_count": 0,
      "outputs": []
    },
    {
      "cell_type": "markdown",
      "metadata": {
        "id": "Buvhwfz8tub7",
        "colab_type": "text"
      },
      "source": [
        "Plot the first dataset with standard deviation 1."
      ]
    },
    {
      "cell_type": "code",
      "metadata": {
        "colab_type": "code",
        "id": "F8Q_5tensqas",
        "outputId": "b25e29f2-2e8b-469a-afac-1328c75dfbee",
        "colab": {
          "base_uri": "https://localhost:8080/",
          "height": 295
        }
      },
      "source": [
        "plt.scatter(data1[:,0], data1[:,1])\n",
        "plt.title('Scatter plot data with standard deviation=1')\n",
        "plt.plot()\n",
        "plt.xlabel('x')\n",
        "plt.ylabel('y')\n",
        "plt.show()"
      ],
      "execution_count": 0,
      "outputs": [
        {
          "output_type": "display_data",
          "data": {
            "image/png": "[encoded data removed]",
            "text/plain": [
              "<Figure size 432x288 with 1 Axes>"
            ]
          },
          "metadata": {
            "tags": [],
            "needs_background": "light"
          }
        }
      ]
    },
    {
      "cell_type": "markdown",
      "metadata": {
        "id": "B3OgT3DVt0JO",
        "colab_type": "text"
      },
      "source": [
        "Plot the first dataset with standard deviation 4."
      ]
    },
    {
      "cell_type": "code",
      "metadata": {
        "colab_type": "code",
        "id": "kMYmZLvfsqJK",
        "outputId": "5ea2c5c5-0c46-457b-efc7-2b7701fcaa1b",
        "colab": {
          "base_uri": "https://localhost:8080/",
          "height": 295
        }
      },
      "source": [
        "plt.scatter(data2[:,0], data2[:,1])\n",
        "plt.title('Scatter plot data with standard deviation=5')\n",
        "plt.xlabel('x')\n",
        "plt.ylabel('y')\n",
        "plt.show()"
      ],
      "execution_count": 0,
      "outputs": [
        {
          "output_type": "display_data",
          "data": {
            "image/png": "[encoded data removed]",
            "text/plain": [
              "<Figure size 432x288 with 1 Axes>"
            ]
          },
          "metadata": {
            "tags": [],
            "needs_background": "light"
          }
        }
      ]
    },
    {
      "cell_type": "markdown",
      "metadata": {
        "id": "Al6vGgvUtZf2",
        "colab_type": "text"
      },
      "source": [
        "Train a Gaussian Naive Bayesian and Logistic Regression with the 1st dataset."
      ]
    },
    {
      "cell_type": "code",
      "metadata": {
        "colab_type": "code",
        "id": "vfsu5AaIsp1Y",
        "outputId": "e64a8742-3b24-47f9-a597-785ee9b0d40b",
        "colab": {
          "base_uri": "https://localhost:8080/",
          "height": 34
        }
      },
      "source": [
        "GNB = GaussianNB()\n",
        "GNB.fit(train_x1, train_y1)"
      ],
      "execution_count": 0,
      "outputs": [
        {
          "output_type": "execute_result",
          "data": {
            "text/plain": [
              "GaussianNB(priors=None, var_smoothing=1e-09)"
            ]
          },
          "metadata": {
            "tags": []
          },
          "execution_count": 18
        }
      ]
    },
    {
      "cell_type": "code",
      "metadata": {
        "colab_type": "code",
        "id": "adUJfl64spmM",
        "outputId": "af69951c-e607-48f6-c5fc-cd97d1eba102",
        "colab": {
          "base_uri": "https://localhost:8080/",
          "height": 102
        }
      },
      "source": [
        "clf = LogisticRegression(random_state=0)\n",
        "clf.fit(train_x1, train_y1)"
      ],
      "execution_count": 0,
      "outputs": [
        {
          "output_type": "execute_result",
          "data": {
            "text/plain": [
              "LogisticRegression(C=1.0, class_weight=None, dual=False, fit_intercept=True,\n",
              "                   intercept_scaling=1, l1_ratio=None, max_iter=100,\n",
              "                   multi_class='auto', n_jobs=None, penalty='l2',\n",
              "                   random_state=0, solver='lbfgs', tol=0.0001, verbose=0,\n",
              "                   warm_start=False)"
            ]
          },
          "metadata": {
            "tags": []
          },
          "execution_count": 19
        }
      ]
    },
    {
      "cell_type": "markdown",
      "metadata": {
        "id": "Iw3NUUHfuSf4",
        "colab_type": "text"
      },
      "source": [
        "### Perfect Decision Boundary"
      ]
    },
    {
      "cell_type": "code",
      "metadata": {
        "colab_type": "code",
        "id": "lCOG0Ii0spWm",
        "outputId": "28ac7e64-a553-43cb-fc8b-52a1fb1d03b2",
        "colab": {
          "base_uri": "https://localhost:8080/",
          "height": 187
        }
      },
      "source": [
        "# Predict\n",
        "print(\"Classification Report for Naive Bayesian:\")\n",
        "print(classification_report(GNB.predict(val_x1),val_y1))"
      ],
      "execution_count": 0,
      "outputs": [
        {
          "output_type": "stream",
          "text": [
            "Classification Report for Naive Bayesian:\n",
            "              precision    recall  f1-score   support\n",
            "\n",
            "           0       1.00      1.00      1.00        37\n",
            "           1       1.00      1.00      1.00        63\n",
            "\n",
            "    accuracy                           1.00       100\n",
            "   macro avg       1.00      1.00      1.00       100\n",
            "weighted avg       1.00      1.00      1.00       100\n",
            "\n"
          ],
          "name": "stdout"
        }
      ]
    },
    {
      "cell_type": "code",
      "metadata": {
        "id": "ErjLrH5h2BFJ",
        "colab_type": "code",
        "outputId": "60d53829-4e2f-4111-e2e5-5c3ce7deb1af",
        "colab": {
          "base_uri": "https://localhost:8080/",
          "height": 68
        }
      },
      "source": [
        "print(\"Confusion Matrix:\")\n",
        "print(confusion_matrix(GNB.predict(val_x1),val_y1))"
      ],
      "execution_count": 0,
      "outputs": [
        {
          "output_type": "stream",
          "text": [
            "Confusion Matrix:\n",
            "[[37  0]\n",
            " [ 0 63]]\n"
          ],
          "name": "stdout"
        }
      ]
    },
    {
      "cell_type": "code",
      "metadata": {
        "colab_type": "code",
        "id": "hV1gbmlfspHg",
        "outputId": "cef1b430-814d-496e-ff01-2f8361d8c67a",
        "colab": {
          "base_uri": "https://localhost:8080/",
          "height": 187
        }
      },
      "source": [
        "# Predict\n",
        "print(\"Classification Report for Logistic Regression:\")\n",
        "print(classification_report(clf.predict(val_x1), val_y1))"
      ],
      "execution_count": 0,
      "outputs": [
        {
          "output_type": "stream",
          "text": [
            "Classification Report for Logistic Regression:\n",
            "              precision    recall  f1-score   support\n",
            "\n",
            "           0       1.00      1.00      1.00        37\n",
            "           1       1.00      1.00      1.00        63\n",
            "\n",
            "    accuracy                           1.00       100\n",
            "   macro avg       1.00      1.00      1.00       100\n",
            "weighted avg       1.00      1.00      1.00       100\n",
            "\n"
          ],
          "name": "stdout"
        }
      ]
    },
    {
      "cell_type": "code",
      "metadata": {
        "id": "pHyud1TMRmnI",
        "colab_type": "code",
        "outputId": "7492050a-2af8-4255-f116-606f977b1587",
        "colab": {
          "base_uri": "https://localhost:8080/",
          "height": 68
        }
      },
      "source": [
        "print(\"Confusion Matrix:\")\n",
        "print(confusion_matrix(clf.predict(val_x1), val_y1))"
      ],
      "execution_count": 0,
      "outputs": [
        {
          "output_type": "stream",
          "text": [
            "Confusion Matrix:\n",
            "[[37  0]\n",
            " [ 0 63]]\n"
          ],
          "name": "stdout"
        }
      ]
    },
    {
      "cell_type": "markdown",
      "metadata": {
        "id": "G6_Ss-WXt_f6",
        "colab_type": "text"
      },
      "source": [
        "### Both algorithm perfectly separate two data clusters for 1st dataset with standard deviation 1. The data points are linearly separable."
      ]
    },
    {
      "cell_type": "code",
      "metadata": {
        "colab_type": "code",
        "id": "w-BrV7Ftso30",
        "outputId": "bb1ffaca-1d0a-4f41-eb6d-e5f599b66a6b",
        "colab": {
          "base_uri": "https://localhost:8080/",
          "height": 34
        }
      },
      "source": [
        "GNB = GaussianNB()\n",
        "GNB.fit(train_x2, train_y2)"
      ],
      "execution_count": 0,
      "outputs": [
        {
          "output_type": "execute_result",
          "data": {
            "text/plain": [
              "GaussianNB(priors=None, var_smoothing=1e-09)"
            ]
          },
          "metadata": {
            "tags": []
          },
          "execution_count": 31
        }
      ]
    },
    {
      "cell_type": "code",
      "metadata": {
        "colab_type": "code",
        "id": "s9TGNXqOsooC",
        "outputId": "957a98d1-c1e0-4225-c9d5-109b3986603b",
        "colab": {
          "base_uri": "https://localhost:8080/",
          "height": 102
        }
      },
      "source": [
        "clf = LogisticRegression(random_state=0)\n",
        "clf.fit(train_x2, train_y2)"
      ],
      "execution_count": 0,
      "outputs": [
        {
          "output_type": "execute_result",
          "data": {
            "text/plain": [
              "LogisticRegression(C=1.0, class_weight=None, dual=False, fit_intercept=True,\n",
              "                   intercept_scaling=1, l1_ratio=None, max_iter=100,\n",
              "                   multi_class='auto', n_jobs=None, penalty='l2',\n",
              "                   random_state=0, solver='lbfgs', tol=0.0001, verbose=0,\n",
              "                   warm_start=False)"
            ]
          },
          "metadata": {
            "tags": []
          },
          "execution_count": 32
        }
      ]
    },
    {
      "cell_type": "code",
      "metadata": {
        "colab_type": "code",
        "id": "ezSLARzIsoY0",
        "outputId": "19211af1-97b5-47ca-ea27-1e93b69ea531",
        "colab": {
          "base_uri": "https://localhost:8080/",
          "height": 187
        }
      },
      "source": [
        "# Predict\n",
        "print(\"Classification Report for Naive Bayesian:\")\n",
        "print(classification_report(GNB.predict(val_x2),val_y2))"
      ],
      "execution_count": 0,
      "outputs": [
        {
          "output_type": "stream",
          "text": [
            "Classification Report for Naive Bayesian:\n",
            "              precision    recall  f1-score   support\n",
            "\n",
            "           0       0.93      0.95      0.94        55\n",
            "           1       0.93      0.91      0.92        45\n",
            "\n",
            "    accuracy                           0.93       100\n",
            "   macro avg       0.93      0.93      0.93       100\n",
            "weighted avg       0.93      0.93      0.93       100\n",
            "\n"
          ],
          "name": "stdout"
        }
      ]
    },
    {
      "cell_type": "code",
      "metadata": {
        "id": "calOXBod1-xJ",
        "colab_type": "code",
        "outputId": "1a62291a-8ece-4e9d-c4ce-3359850963d4",
        "colab": {
          "base_uri": "https://localhost:8080/",
          "height": 68
        }
      },
      "source": [
        "print(\"Confusion Matrix:\")\n",
        "print(confusion_matrix(GNB.predict(val_x2),val_y2))"
      ],
      "execution_count": 0,
      "outputs": [
        {
          "output_type": "stream",
          "text": [
            "Confusion Matrix:\n",
            "[[52  3]\n",
            " [ 4 41]]\n"
          ],
          "name": "stdout"
        }
      ]
    },
    {
      "cell_type": "code",
      "metadata": {
        "colab_type": "code",
        "id": "ZzZ3KzaosoDM",
        "outputId": "7ee7e81c-d978-46f1-b35a-c6db681b70b7",
        "colab": {
          "base_uri": "https://localhost:8080/",
          "height": 187
        }
      },
      "source": [
        "# Predict\n",
        "print(\"Classification Report for Logistic Regression:\")\n",
        "print(classification_report(clf.predict(val_x2), val_y2))"
      ],
      "execution_count": 0,
      "outputs": [
        {
          "output_type": "stream",
          "text": [
            "Classification Report for Logistic Regression:\n",
            "              precision    recall  f1-score   support\n",
            "\n",
            "           0       0.95      0.95      0.95        56\n",
            "           1       0.93      0.93      0.93        44\n",
            "\n",
            "    accuracy                           0.94       100\n",
            "   macro avg       0.94      0.94      0.94       100\n",
            "weighted avg       0.94      0.94      0.94       100\n",
            "\n"
          ],
          "name": "stdout"
        }
      ]
    },
    {
      "cell_type": "code",
      "metadata": {
        "id": "6h-s7RG-Smlx",
        "colab_type": "code",
        "outputId": "8825b904-1fd6-477d-f68c-1c2f24ce63f7",
        "colab": {
          "base_uri": "https://localhost:8080/",
          "height": 68
        }
      },
      "source": [
        "print(\"Confusion Matrix:\")\n",
        "print(confusion_matrix(clf.predict(val_x2), val_y2))"
      ],
      "execution_count": 0,
      "outputs": [
        {
          "output_type": "stream",
          "text": [
            "Confusion Matrix:\n",
            "[[53  3]\n",
            " [ 3 41]]\n"
          ],
          "name": "stdout"
        }
      ]
    },
    {
      "cell_type": "markdown",
      "metadata": {
        "id": "EOEm_p0RukGE",
        "colab_type": "text"
      },
      "source": [
        "### Use the scatter plot and draw the perfect decision boundary on two scatter plot. Discuss what is linear separability, decision boundary, which datapoints are harder to separate. Discuss the accuries and the why which model performs better.\n",
        " \n",
        "\n",
        "### Please also read: [Equivalence of GNB and LR](https://appliedmachinelearning.blog/2019/09/30/equivalence-of-gaussian-naive-bayes-and-logistic-regression-an-explanation/)"
      ]
    },
    {
      "cell_type": "markdown",
      "metadata": {
        "id": "wp_GQb_6Ztn6",
        "colab_type": "text"
      },
      "source": [
        "We obtained that the first data set is linear separable when standard deviation is 1. On the other hand, it is not linear separable for second data set when standard deviation is 5, when we draw the perfect decision boundaries. Linear separability is the fact that classes of patterns with n-dimensional vector can be separated with a single decision surface. \n",
        "\n",
        "The accuracy is the same for the first data set and equals to 1.00. The accuracy for Naive Bayesian of second data set is 0.93. The accuracy for logistic regression of second data set is 0.94. We conclude that logistic regression performs better. Since the second data set is not conditionally independent, logistic regression outperforms Naive Bayesian."
      ]
    },
    {
      "cell_type": "markdown",
      "metadata": {
        "id": "r3NlcMcuybLG",
        "colab_type": "text"
      },
      "source": [
        "# [75pts] Logistic Regression and Naive Bayesian Comparison"
      ]
    },
    {
      "cell_type": "markdown",
      "metadata": {
        "id": "pTCdpwctybP_",
        "colab_type": "text"
      },
      "source": [
        "### The dataset\n",
        "We will use Kaggle dataset. This dataset contains around 200k news headlines from the year 2012 to 2018 obtained from HuffPost.\n",
        "\n",
        "You can [download.](https://www.kaggle.com/rmisra/news-category-dataset)"
      ]
    },
    {
      "cell_type": "code",
      "metadata": {
        "id": "4XI0ssM-vESc",
        "colab_type": "code",
        "colab": {}
      },
      "source": [
        "import pandas as pd\n",
        "from sklearn.model_selection import train_test_split\n",
        "from sklearn.linear_model import LogisticRegression\n",
        "from sklearn.feature_extraction.text import CountVectorizer,TfidfVectorizer"
      ],
      "execution_count": 0,
      "outputs": []
    },
    {
      "cell_type": "code",
      "metadata": {
        "id": "O_qxdl1W0vwU",
        "colab_type": "code",
        "colab": {}
      },
      "source": [
        "df=pd.read_json('/content/drive/My Drive/News_Category_Dataset_v2.json',lines=True)"
      ],
      "execution_count": 0,
      "outputs": []
    },
    {
      "cell_type": "markdown",
      "metadata": {
        "id": "3vw87GC9HyCb",
        "colab_type": "text"
      },
      "source": [
        "## Select 4 categories: Politics, Wellness, Entertainment, Travel"
      ]
    },
    {
      "cell_type": "markdown",
      "metadata": {
        "id": "XC9FiyORcb7_",
        "colab_type": "text"
      },
      "source": [
        "use only 50K of data row"
      ]
    },
    {
      "cell_type": "code",
      "metadata": {
        "id": "EsGFclVkMsu7",
        "colab_type": "code",
        "colab": {}
      },
      "source": [
        "df = df.sample(50000)"
      ],
      "execution_count": 0,
      "outputs": []
    },
    {
      "cell_type": "code",
      "metadata": {
        "id": "IITl1l8uFS7-",
        "colab_type": "code",
        "colab": {}
      },
      "source": [
        "new_df = df[(df['category']== 'POLITICS') | (df['category']== 'WELLNESS') | (df['category']== 'ENTERTAINMENT') | (df['category']== 'TRAVEL')]"
      ],
      "execution_count": 0,
      "outputs": []
    },
    {
      "cell_type": "code",
      "metadata": {
        "id": "XDfkCxBnE6ll",
        "colab_type": "code",
        "outputId": "3498d739-25e3-423e-c5c6-99674c54714d",
        "colab": {
          "base_uri": "https://localhost:8080/",
          "height": 102
        }
      },
      "source": [
        "new_df['category'].value_counts()"
      ],
      "execution_count": 0,
      "outputs": [
        {
          "output_type": "execute_result",
          "data": {
            "text/plain": [
              "POLITICS         8121\n",
              "WELLNESS         4497\n",
              "ENTERTAINMENT    4070\n",
              "TRAVEL           2442\n",
              "Name: category, dtype: int64"
            ]
          },
          "metadata": {
            "tags": []
          },
          "execution_count": 39
        }
      ]
    },
    {
      "cell_type": "markdown",
      "metadata": {
        "id": "JMNVxLYmJx9c",
        "colab_type": "text"
      },
      "source": [
        "Convert category names to digit labelling"
      ]
    },
    {
      "cell_type": "code",
      "metadata": {
        "id": "yDYfDUe4E6qY",
        "colab_type": "code",
        "colab": {}
      },
      "source": [
        "y = (new_df['category'].to_numpy() == \"WELLNESS\")*1 + (new_df['category'].to_numpy() == \"ENTERTAINMENT\")*2 + (new_df['category'].to_numpy() == \"TRAVEL\")*3"
      ],
      "execution_count": 0,
      "outputs": []
    },
    {
      "cell_type": "markdown",
      "metadata": {
        "id": "kbzCIMKqKD-S",
        "colab_type": "text"
      },
      "source": [
        "Merge headlines with short descriptions"
      ]
    },
    {
      "cell_type": "code",
      "metadata": {
        "id": "I02ZKccjE6tT",
        "colab_type": "code",
        "colab": {}
      },
      "source": [
        "X = new_df['short_description'] + ' '+ new_df['headline']"
      ],
      "execution_count": 0,
      "outputs": []
    },
    {
      "cell_type": "markdown",
      "metadata": {
        "id": "9CI9QnFpKY-z",
        "colab_type": "text"
      },
      "source": [
        "### Create Tf-Idf model"
      ]
    },
    {
      "cell_type": "code",
      "metadata": {
        "id": "FvsbWnHgE6wK",
        "colab_type": "code",
        "colab": {}
      },
      "source": [
        "from sklearn.feature_extraction.text import CountVectorizer\n",
        "\n",
        "count_vect = CountVectorizer(lowercase=True, stop_words='english')\n",
        "X_train_counts = count_vect.fit_transform(X)"
      ],
      "execution_count": 0,
      "outputs": []
    },
    {
      "cell_type": "markdown",
      "metadata": {
        "id": "AUyDgaJGOtiq",
        "colab_type": "text"
      },
      "source": [
        "\n",
        "TfidfTransformer: Transform a count matrix to a normalized tf or tf-idf representation\n",
        "\n",
        "Tf means term-frequency while tf-idf means term-frequency times inverse document-frequency. This is a common term weighting scheme in information retrieval, that has also found good use in document classification.\n",
        "\n",
        "The goal of using tf-idf instead of the raw frequencies of occurrence of a token in a given document is to scale down the impact of tokens that occur very frequently in a given corpus and that are hence empirically less informative than features that occur in a small fraction of the training corpus.\n",
        "\n",
        "It is the unigrams."
      ]
    },
    {
      "cell_type": "code",
      "metadata": {
        "id": "egpmnHfOE6za",
        "colab_type": "code",
        "colab": {}
      },
      "source": [
        "from sklearn.feature_extraction.text import TfidfTransformer\n",
        "\n",
        "tfidf_transformer = TfidfTransformer()\n",
        "X_train_tf = tfidf_transformer.fit_transform(X_train_counts)"
      ],
      "execution_count": 0,
      "outputs": []
    },
    {
      "cell_type": "markdown",
      "metadata": {
        "id": "CvqXQFBoKcau",
        "colab_type": "text"
      },
      "source": [
        "Split train and test data"
      ]
    },
    {
      "cell_type": "code",
      "metadata": {
        "id": "1fAe2Ao8E63a",
        "colab_type": "code",
        "colab": {}
      },
      "source": [
        "from sklearn.model_selection import train_test_split\n",
        "\n",
        "(train_data, val_data, train_label, val_label) = train_test_split(X_train_tf, y, test_size=0.2)"
      ],
      "execution_count": 0,
      "outputs": []
    },
    {
      "cell_type": "markdown",
      "metadata": {
        "id": "mmGiX6u6Lf2a",
        "colab_type": "text"
      },
      "source": [
        "### Gaussian Naive Bayesian"
      ]
    },
    {
      "cell_type": "code",
      "metadata": {
        "id": "ry0v_z27Ku2c",
        "colab_type": "code",
        "outputId": "2bdac63b-cc0f-4f8e-e499-f1e23323f466",
        "colab": {
          "base_uri": "https://localhost:8080/",
          "height": 34
        }
      },
      "source": [
        "GNB = GaussianNB()\n",
        "GNB.fit(train_data.toarray(), train_label)"
      ],
      "execution_count": 0,
      "outputs": [
        {
          "output_type": "execute_result",
          "data": {
            "text/plain": [
              "GaussianNB(priors=None, var_smoothing=1e-09)"
            ]
          },
          "metadata": {
            "tags": []
          },
          "execution_count": 45
        }
      ]
    },
    {
      "cell_type": "code",
      "metadata": {
        "id": "y9OqGk-9Ku7Z",
        "colab_type": "code",
        "outputId": "1fb3f31a-3f06-480a-81c4-88de469b79a7",
        "colab": {
          "base_uri": "https://localhost:8080/",
          "height": 221
        }
      },
      "source": [
        "# Predict\n",
        "print(\"Classification Report for Naive Bayesian:\")\n",
        "print(classification_report(GNB.predict(val_data.toarray()), val_label))"
      ],
      "execution_count": 0,
      "outputs": [
        {
          "output_type": "stream",
          "text": [
            "Classification Report for Naive Bayesian:\n",
            "              precision    recall  f1-score   support\n",
            "\n",
            "           0       0.74      0.79      0.76      1513\n",
            "           1       0.71      0.71      0.71       937\n",
            "           2       0.74      0.67      0.70       889\n",
            "           3       0.59      0.57      0.58       487\n",
            "\n",
            "    accuracy                           0.71      3826\n",
            "   macro avg       0.70      0.69      0.69      3826\n",
            "weighted avg       0.71      0.71      0.71      3826\n",
            "\n"
          ],
          "name": "stdout"
        }
      ]
    },
    {
      "cell_type": "code",
      "metadata": {
        "id": "QYQlWvrAz-El",
        "colab_type": "code",
        "outputId": "49543f79-3de4-45e4-85b4-7bc6aefdb8a6",
        "colab": {
          "base_uri": "https://localhost:8080/",
          "height": 102
        }
      },
      "source": [
        "print(\"Confusion Matrix:\")\n",
        "print(confusion_matrix(GNB.predict(val_data.toarray()), val_label))"
      ],
      "execution_count": 0,
      "outputs": [
        {
          "output_type": "stream",
          "text": [
            "Confusion Matrix:\n",
            "[[1191  137  106   79]\n",
            " [ 145  667   47   78]\n",
            " [ 199   56  598   36]\n",
            " [  72   78   59  278]]\n"
          ],
          "name": "stdout"
        }
      ]
    },
    {
      "cell_type": "markdown",
      "metadata": {
        "id": "KMbfLFGqLxDd",
        "colab_type": "text"
      },
      "source": [
        "### 6) Logistic Regression"
      ]
    },
    {
      "cell_type": "code",
      "metadata": {
        "id": "pIBqMFP2Ku-5",
        "colab_type": "code",
        "outputId": "60c20058-fd17-482f-9953-ad87e8d8dbfc",
        "colab": {
          "base_uri": "https://localhost:8080/",
          "height": 238
        }
      },
      "source": [
        "clf = LogisticRegression(random_state=0)\n",
        "clf.fit(train_data.toarray(), train_label)"
      ],
      "execution_count": 0,
      "outputs": [
        {
          "output_type": "stream",
          "text": [
            "/usr/local/lib/python3.6/dist-packages/sklearn/linear_model/_logistic.py:940: ConvergenceWarning: lbfgs failed to converge (status=1):\n",
            "STOP: TOTAL NO. of ITERATIONS REACHED LIMIT.\n",
            "\n",
            "Increase the number of iterations (max_iter) or scale the data as shown in:\n",
            "    https://scikit-learn.org/stable/modules/preprocessing.html\n",
            "Please also refer to the documentation for alternative solver options:\n",
            "    https://scikit-learn.org/stable/modules/linear_model.html#logistic-regression\n",
            "  extra_warning_msg=_LOGISTIC_SOLVER_CONVERGENCE_MSG)\n"
          ],
          "name": "stderr"
        },
        {
          "output_type": "execute_result",
          "data": {
            "text/plain": [
              "LogisticRegression(C=1.0, class_weight=None, dual=False, fit_intercept=True,\n",
              "                   intercept_scaling=1, l1_ratio=None, max_iter=100,\n",
              "                   multi_class='auto', n_jobs=None, penalty='l2',\n",
              "                   random_state=0, solver='lbfgs', tol=0.0001, verbose=0,\n",
              "                   warm_start=False)"
            ]
          },
          "metadata": {
            "tags": []
          },
          "execution_count": 48
        }
      ]
    },
    {
      "cell_type": "code",
      "metadata": {
        "id": "NKxcvdTHKu5a",
        "colab_type": "code",
        "outputId": "7122c08c-9110-42cf-c00e-d1303be5be02",
        "colab": {
          "base_uri": "https://localhost:8080/",
          "height": 221
        }
      },
      "source": [
        "# Predict\n",
        "print(\"Classification Report for Logistic Regression:\")\n",
        "print(classification_report(clf.predict(val_data.toarray()), val_label))"
      ],
      "execution_count": 0,
      "outputs": [
        {
          "output_type": "stream",
          "text": [
            "Classification Report for Logistic Regression:\n",
            "              precision    recall  f1-score   support\n",
            "\n",
            "           0       0.96      0.91      0.93      1698\n",
            "           1       0.90      0.89      0.89       950\n",
            "           2       0.87      0.86      0.86       816\n",
            "           3       0.69      0.90      0.78       362\n",
            "\n",
            "    accuracy                           0.89      3826\n",
            "   macro avg       0.85      0.89      0.87      3826\n",
            "weighted avg       0.90      0.89      0.89      3826\n",
            "\n"
          ],
          "name": "stdout"
        }
      ]
    },
    {
      "cell_type": "code",
      "metadata": {
        "id": "9dUShBwWfluX",
        "colab_type": "code",
        "outputId": "7dcbba2b-8486-4779-dd80-1894b8ecaac1",
        "colab": {
          "base_uri": "https://localhost:8080/",
          "height": 102
        }
      },
      "source": [
        "print(\"Confusion Matrix:\")\n",
        "print(confusion_matrix(clf.predict(val_data.toarray()), val_label))"
      ],
      "execution_count": 0,
      "outputs": [
        {
          "output_type": "stream",
          "text": [
            "Confusion Matrix:\n",
            "[[1538   54   63   43]\n",
            " [  24  843   34   49]\n",
            " [  32   29  702   53]\n",
            " [  13   12   11  326]]\n"
          ],
          "name": "stdout"
        }
      ]
    },
    {
      "cell_type": "markdown",
      "metadata": {
        "id": "V70hLs_YNZXI",
        "colab_type": "text"
      },
      "source": [
        "### Observe Logistic Regression is much slower but more accurate. Discuss."
      ]
    }
  ]
}